{
 "cells": [
  {
   "cell_type": "code",
   "execution_count": 1,
   "id": "12acb729",
   "metadata": {},
   "outputs": [],
   "source": [
    "%load_ext autoreload\n",
    "%autoreload 2"
   ]
  },
  {
   "cell_type": "code",
   "execution_count": 2,
   "id": "3a5815de",
   "metadata": {},
   "outputs": [],
   "source": [
    "import sys\n",
    "sys.path.append('..')\n",
    "import os\n",
    "import pandas as pd\n",
    "import numpy as np\n",
    "import config\n",
    "import glob\n",
    "from tqdm import tqdm"
   ]
  },
  {
   "cell_type": "code",
   "execution_count": 3,
   "id": "634faf30",
   "metadata": {},
   "outputs": [
    {
     "ename": "ModuleNotFoundError",
     "evalue": "No module named 'cv2'",
     "output_type": "error",
     "traceback": [
      "\u001b[0;31m---------------------------------------------------------------------------\u001b[0m",
      "\u001b[0;31mModuleNotFoundError\u001b[0m                       Traceback (most recent call last)",
      "\u001b[0;32m/var/folders/vh/l4zfl9b16vs1pwwj0t7gb6br0000gp/T/ipykernel_4553/2517550952.py\u001b[0m in \u001b[0;36m<module>\u001b[0;34m\u001b[0m\n\u001b[0;32m----> 1\u001b[0;31m \u001b[0;32mimport\u001b[0m \u001b[0mcv2\u001b[0m\u001b[0;34m\u001b[0m\u001b[0;34m\u001b[0m\u001b[0m\n\u001b[0m\u001b[1;32m      2\u001b[0m \u001b[0;32mimport\u001b[0m \u001b[0mgeopandas\u001b[0m \u001b[0;32mas\u001b[0m \u001b[0mgpd\u001b[0m\u001b[0;34m\u001b[0m\u001b[0;34m\u001b[0m\u001b[0m\n\u001b[1;32m      3\u001b[0m \u001b[0;32mfrom\u001b[0m \u001b[0mskimage\u001b[0m \u001b[0;32mimport\u001b[0m \u001b[0mio\u001b[0m\u001b[0;34m,\u001b[0m \u001b[0mimg_as_ubyte\u001b[0m\u001b[0;34m\u001b[0m\u001b[0;34m\u001b[0m\u001b[0m\n\u001b[1;32m      4\u001b[0m \u001b[0;32mimport\u001b[0m \u001b[0mrasterio\u001b[0m \u001b[0;32mas\u001b[0m \u001b[0mrs\u001b[0m\u001b[0;34m\u001b[0m\u001b[0;34m\u001b[0m\u001b[0m\n\u001b[1;32m      5\u001b[0m \u001b[0;32mfrom\u001b[0m \u001b[0mrasterio\u001b[0m\u001b[0;34m.\u001b[0m\u001b[0mplot\u001b[0m \u001b[0;32mimport\u001b[0m \u001b[0mshow\u001b[0m\u001b[0;34m\u001b[0m\u001b[0;34m\u001b[0m\u001b[0m\n",
      "\u001b[0;31mModuleNotFoundError\u001b[0m: No module named 'cv2'"
     ]
    }
   ],
   "source": [
    "import cv2\n",
    "import geopandas as gpd\n",
    "from skimage import io, img_as_ubyte\n",
    "import rasterio as rs\n",
    "from rasterio.plot import show\n",
    "from rasterio import features as feat"
   ]
  },
  {
   "cell_type": "code",
   "execution_count": null,
   "id": "fcc1e60d",
   "metadata": {},
   "outputs": [],
   "source": [
    "project_root = config.project_root\n",
    "sn6_dataset = os.path.join(project_root, 'dataset', 'data-spacenet6')\n",
    "train_dir = os.path.join(sn6_dataset, \"train\", \"AOI_11_Rotterdam\")\n",
    "test_dir = os.path.join(sn6_dataset, \"test_public\", \"AOI_11_Rotterdam\")\n",
    "mask_train_dir =  os.path.join(train_dir, \"masks\")"
   ]
  },
  {
   "cell_type": "code",
   "execution_count": null,
   "id": "1206e455",
   "metadata": {},
   "outputs": [],
   "source": [
    "def get_test_path(image_id):\n",
    "    return f'{test_dir}/SAR-Intensity/SN6_Test_Public_AOI_11_Rotterdam_{image_id}.tif'"
   ]
  },
  {
   "cell_type": "code",
   "execution_count": null,
   "id": "81d8fe84",
   "metadata": {},
   "outputs": [],
   "source": [
    "def get_test_image_ids(test_dir):\n",
    "    search_pattern = os.path.join(test_dir, 'SAR-Intensity', 'SN6_Test_Public_AOI_11_Rotterdam_*.tif')\n",
    "    file_paths = glob.glob(search_pattern)\n",
    "    image_ids = [os.path.basename(file_path).replace('SN6_Test_Public_AOI_11_Rotterdam_', '').replace('.tif', '') for file_path in file_paths]\n",
    "    return image_ids\n"
   ]
  },
  {
   "cell_type": "code",
   "execution_count": null,
   "id": "1ad3d17d",
   "metadata": {},
   "outputs": [],
   "source": [
    "test_image_ids = get_test_image_ids(test_dir)\n",
    "print(len(test_image_ids))"
   ]
  },
  {
   "cell_type": "code",
   "execution_count": null,
   "id": "1f957325",
   "metadata": {},
   "outputs": [],
   "source": [
    "if not os.path.exists(mask_train_dir):\n",
    "    os.mkdir(mask_train_dir)"
   ]
  },
  {
   "cell_type": "code",
   "execution_count": null,
   "id": "9b3af627",
   "metadata": {},
   "outputs": [],
   "source": [
    "summary_data = os.path.join(train_dir, 'SummaryData', 'SN6_Train_AOI_11_Rotterdam_Buildings.csv')\n",
    "print(summary_data)\n",
    "summary_df = pd.read_csv(summary_data)"
   ]
  },
  {
   "cell_type": "code",
   "execution_count": null,
   "id": "492135c1",
   "metadata": {},
   "outputs": [],
   "source": [
    "image_ids = summary_df.ImageId.unique()\n",
    "len(image_ids)"
   ]
  },
  {
   "cell_type": "code",
   "execution_count": null,
   "id": "d93fa00f",
   "metadata": {},
   "outputs": [],
   "source": [
    "summary_df.head()"
   ]
  },
  {
   "cell_type": "code",
   "execution_count": null,
   "id": "a3f799bf",
   "metadata": {},
   "outputs": [],
   "source": [
    "def get_geojson(image_id):\n",
    "    return f\"{train_dir}/geojson_buildings/SN6_Train_AOI_11_Rotterdam_Buildings_{image_id}.geojson\"  \n",
    "\n",
    "def get_filepath(image_id, mode):\n",
    "    return f'{train_dir}/{mode}/SN6_Train_AOI_11_Rotterdam_{mode}_{image_id}.tif'\n",
    "\n",
    "def get_raster(image_id, mode):\n",
    "    return rs.open(get_filepath(image_id, mode))\n",
    "\n",
    "def get_mask_filepath(image_id,  mode='SAR-Intensity'):\n",
    "    return f'{mask_train_dir}/SN6_Train_AOI_11_Rotterdam_{mode}_{image_id}.png'"
   ]
  },
  {
   "cell_type": "code",
   "execution_count": null,
   "id": "4266e888",
   "metadata": {},
   "outputs": [],
   "source": [
    "show(get_raster(image_ids[0], mode='SAR-Intensity'))"
   ]
  },
  {
   "cell_type": "code",
   "execution_count": null,
   "id": "f7f18f05",
   "metadata": {},
   "outputs": [],
   "source": [
    "df = gpd.read_file(get_geojson(image_ids[0]))"
   ]
  },
  {
   "cell_type": "code",
   "execution_count": null,
   "id": "b587819b",
   "metadata": {},
   "outputs": [],
   "source": [
    "def get_binary_mask(image_id, raster):\n",
    "    gdf = gpd.read_file(get_geojson(image_id))\n",
    "    if gdf.shape[0] == 0:\n",
    "        mask = np.zeros((raster.height, raster.width))\n",
    "    \n",
    "    mask = feat.geometry_mask(\n",
    "        gdf.geometry,\n",
    "        out_shape=(raster.height, raster.width),\n",
    "        transform=raster.transform,\n",
    "        invert=True,\n",
    "    )\n",
    "    return mask"
   ]
  },
  {
   "cell_type": "code",
   "execution_count": null,
   "id": "49f2b55d",
   "metadata": {},
   "outputs": [],
   "source": [
    "import matplotlib.pyplot as plt\n",
    "\n",
    "mask = get_binary_mask(image_ids[0], get_raster(image_ids[0], mode='SAR-Intensity'))\n",
    "\n",
    "plt.imshow(mask, cmap='gray')\n",
    "plt.show()"
   ]
  },
  {
   "cell_type": "code",
   "execution_count": null,
   "id": "dc1df71c",
   "metadata": {},
   "outputs": [],
   "source": [
    "# not_processed = []\n",
    "# for image_id in tqdm(image_ids):\n",
    "#     try:\n",
    "#         mode = 'SAR-Intensity'\n",
    "#         raster = get_raster(image_id, mode)\n",
    "#         mask = get_binary_mask(image_id, raster)\n",
    "#         mask_ubyte = img_as_ubyte(mask)  # Convert the boolean mask to an 8-bit unsigned integer mask\n",
    "#         out_filename = f'SN6_Train_AOI_11_Rotterdam_{mode}_{image_id}.png'\n",
    "#         io.imsave(os.path.join(mask_train_dir, out_filename), mask_ubyte)\n",
    "#     except Exception as e:\n",
    "#         print(f\"Error processing image {image_id}: {e}\")\n",
    "#         not_processed.append(image_id)\n",
    "\n",
    "# print(f\"{len(not_processed)} images could not have binary masks saved/generated.\")"
   ]
  },
  {
   "cell_type": "markdown",
   "id": "1330a32b",
   "metadata": {},
   "source": [
    "The error:\n",
    "Error processing image 20190823142111_20190823142355_tile_3948: No valid geometry objects found for rasterize\n",
    "Error processing image 20190823142111_20190823142355_tile_3943: No valid geometry objects found for rasterize\n",
    "Error processing image 20190823125228_20190823125530_tile_8582: No valid geometry objects found for rasterize\n"
   ]
  },
  {
   "cell_type": "code",
   "execution_count": null,
   "id": "f5093941",
   "metadata": {},
   "outputs": [],
   "source": [
    "import matplotlib.pyplot as plt\n",
    "import numpy as np\n",
    "import rasterio as rs\n",
    "from rasterio.plot import show\n",
    "from skimage import io"
   ]
  },
  {
   "cell_type": "code",
   "execution_count": null,
   "id": "74b1544f",
   "metadata": {},
   "outputs": [],
   "source": [
    "def visualize(image_id):\n",
    "    sar_image = rs.open(get_filepath(image_id, mode='SAR-Intensity'))\n",
    "    mask = io.imread(get_mask_filepath(image_id))\n",
    "\n",
    "    fig, (ax1, ax2) = plt.subplots(nrows=1, ncols=2, figsize=(10, 10))\n",
    "\n",
    "\n",
    "    show(sar_image, ax=ax1, cmap='gray')\n",
    "    ax1.set_title('SAR Image')\n",
    "    ax1.axis('off')\n",
    "\n",
    "\n",
    "    show(sar_image, ax=ax2, cmap='gray')\n",
    "    ax2.imshow(mask, alpha=0.5)\n",
    "    ax2.set_title('Mask')\n",
    "    ax2.axis('off')\n",
    "\n",
    "    plt.show()"
   ]
  },
  {
   "cell_type": "code",
   "execution_count": null,
   "id": "cbccbe49",
   "metadata": {},
   "outputs": [],
   "source": [
    "visualize(image_ids[11])"
   ]
  },
  {
   "cell_type": "code",
   "execution_count": null,
   "id": "181e6770",
   "metadata": {},
   "outputs": [],
   "source": [
    "def plot_prediction():\n",
    "    pass"
   ]
  },
  {
   "cell_type": "code",
   "execution_count": null,
   "id": "52034ddd",
   "metadata": {},
   "outputs": [],
   "source": [
    "import rasterio\n",
    "\n",
    "def inspect_image(image_path):\n",
    "    with rasterio.open(image_path) as src:\n",
    "        print(\"Image shape:\", src.shape)\n",
    "        print(\"Number of channels:\", src.count)\n",
    "        print(\"Image CRS:\", src.crs)\n",
    "        print(\"Image transform:\", src.transform)\n",
    "\n",
    "image_path = 'path/to/your/SAR/intensity/image.tif'\n",
    "inspect_image(image_path)\n"
   ]
  }
 ],
 "metadata": {
  "kernelspec": {
   "display_name": ".venv",
   "language": "python",
   "name": ".venv"
  },
  "language_info": {
   "codemirror_mode": {
    "name": "ipython",
    "version": 3
   },
   "file_extension": ".py",
   "mimetype": "text/x-python",
   "name": "python",
   "nbconvert_exporter": "python",
   "pygments_lexer": "ipython3",
   "version": "3.7.9"
  }
 },
 "nbformat": 4,
 "nbformat_minor": 5
}
