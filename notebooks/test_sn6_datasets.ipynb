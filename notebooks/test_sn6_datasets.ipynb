{
 "cells": [
  {
   "cell_type": "code",
   "execution_count": 1,
   "id": "64e9af08",
   "metadata": {},
   "outputs": [],
   "source": [
    "%load_ext autoreload\n",
    "%autoreload 2"
   ]
  },
  {
   "cell_type": "code",
   "execution_count": 40,
   "id": "bda65439",
   "metadata": {},
   "outputs": [],
   "source": [
    "import os\n",
    "import pandas as pd\n",
    "import numpy as np\n",
    "import glob\n",
    "from tqdm import tqdm"
   ]
  },
  {
   "cell_type": "code",
   "execution_count": 3,
   "id": "637ae5cd",
   "metadata": {},
   "outputs": [],
   "source": [
    "import sys\n",
    "sys.path.append('..')"
   ]
  },
  {
   "cell_type": "code",
   "execution_count": 4,
   "id": "750889bb",
   "metadata": {},
   "outputs": [],
   "source": [
    "import config\n",
    "from src.utils import get_sn6_df, get_sn6_not_processed, cleanup_sn6_data"
   ]
  },
  {
   "cell_type": "code",
   "execution_count": 5,
   "id": "32c49069",
   "metadata": {},
   "outputs": [],
   "source": [
    "train_dataset = get_sn6_df(split='train')"
   ]
  },
  {
   "cell_type": "code",
   "execution_count": 6,
   "id": "732fae98",
   "metadata": {},
   "outputs": [
    {
     "data": {
      "text/plain": [
       "'20190822070610_20190822070846_tile_3721'"
      ]
     },
     "execution_count": 6,
     "metadata": {},
     "output_type": "execute_result"
    }
   ],
   "source": [
    "train_dataset.iloc[0]['image_id']"
   ]
  },
  {
   "cell_type": "code",
   "execution_count": 7,
   "id": "66409828",
   "metadata": {},
   "outputs": [],
   "source": [
    "test_dataset = get_sn6_df(split='test')"
   ]
  },
  {
   "cell_type": "code",
   "execution_count": 8,
   "id": "2a92c311",
   "metadata": {},
   "outputs": [
    {
     "data": {
      "text/plain": [
       "'/Users/akerke/Documents/stacked-unets/dataset/data-spacenet6/test_public/AOI_11_Rotterdam/SAR-Intensity/SN6_Test_Public_AOI_11_Rotterdam_SAR-Intensity_20190823073047_20190823073350_tile_7996.tif'"
      ]
     },
     "execution_count": 8,
     "metadata": {},
     "output_type": "execute_result"
    }
   ],
   "source": [
    "test_dataset.iloc[0]['image_path']"
   ]
  },
  {
   "cell_type": "code",
   "execution_count": 9,
   "id": "f66de88f",
   "metadata": {},
   "outputs": [
    {
     "data": {
      "text/plain": [
       "3401"
      ]
     },
     "execution_count": 9,
     "metadata": {},
     "output_type": "execute_result"
    }
   ],
   "source": [
    "summary_df = pd.read_csv(config.sn6_summary_datapath)\n",
    "image_ids = summary_df.ImageId.unique()\n",
    "len(image_ids)"
   ]
  },
  {
   "cell_type": "code",
   "execution_count": 10,
   "id": "ea864284",
   "metadata": {},
   "outputs": [],
   "source": [
    "not_processed = get_sn6_not_processed(mask_train_dir=config.mask_train_dir, image_ids=image_ids)"
   ]
  },
  {
   "cell_type": "code",
   "execution_count": 11,
   "id": "b625ccad",
   "metadata": {},
   "outputs": [
    {
     "data": {
      "text/plain": [
       "248"
      ]
     },
     "execution_count": 11,
     "metadata": {},
     "output_type": "execute_result"
    }
   ],
   "source": [
    "len(not_processed)"
   ]
  },
  {
   "cell_type": "code",
   "execution_count": 12,
   "id": "6693f675",
   "metadata": {},
   "outputs": [
    {
     "data": {
      "text/plain": [
       "(3401, 3)"
      ]
     },
     "execution_count": 12,
     "metadata": {},
     "output_type": "execute_result"
    }
   ],
   "source": [
    "train_dataset.shape"
   ]
  },
  {
   "cell_type": "code",
   "execution_count": 13,
   "id": "e3e91173",
   "metadata": {},
   "outputs": [
    {
     "data": {
      "text/plain": [
       "(3153, 3)"
      ]
     },
     "execution_count": 13,
     "metadata": {},
     "output_type": "execute_result"
    }
   ],
   "source": [
    "train_dataset = cleanup_sn6_data(train_dataset, not_processed)\n",
    "train_dataset.shape"
   ]
  },
  {
   "cell_type": "code",
   "execution_count": 14,
   "id": "40e37cc6",
   "metadata": {},
   "outputs": [
    {
     "data": {
      "text/html": [
       "<div>\n",
       "<style scoped>\n",
       "    .dataframe tbody tr th:only-of-type {\n",
       "        vertical-align: middle;\n",
       "    }\n",
       "\n",
       "    .dataframe tbody tr th {\n",
       "        vertical-align: top;\n",
       "    }\n",
       "\n",
       "    .dataframe thead th {\n",
       "        text-align: right;\n",
       "    }\n",
       "</style>\n",
       "<table border=\"1\" class=\"dataframe\">\n",
       "  <thead>\n",
       "    <tr style=\"text-align: right;\">\n",
       "      <th></th>\n",
       "      <th>image_id</th>\n",
       "      <th>image_path</th>\n",
       "      <th>mask_path</th>\n",
       "    </tr>\n",
       "  </thead>\n",
       "  <tbody>\n",
       "    <tr>\n",
       "      <th>0</th>\n",
       "      <td>20190822070610_20190822070846_tile_3721</td>\n",
       "      <td>/Users/akerke/Documents/stacked-unets/dataset/...</td>\n",
       "      <td>/Users/akerke/Documents/stacked-unets/dataset/...</td>\n",
       "    </tr>\n",
       "    <tr>\n",
       "      <th>1</th>\n",
       "      <td>20190823065938_20190823070236_tile_2141</td>\n",
       "      <td>/Users/akerke/Documents/stacked-unets/dataset/...</td>\n",
       "      <td>/Users/akerke/Documents/stacked-unets/dataset/...</td>\n",
       "    </tr>\n",
       "    <tr>\n",
       "      <th>2</th>\n",
       "      <td>20190823154802_20190823155103_tile_9773</td>\n",
       "      <td>/Users/akerke/Documents/stacked-unets/dataset/...</td>\n",
       "      <td>/Users/akerke/Documents/stacked-unets/dataset/...</td>\n",
       "    </tr>\n",
       "    <tr>\n",
       "      <th>3</th>\n",
       "      <td>20190804122434_20190804122704_tile_6458</td>\n",
       "      <td>/Users/akerke/Documents/stacked-unets/dataset/...</td>\n",
       "      <td>/Users/akerke/Documents/stacked-unets/dataset/...</td>\n",
       "    </tr>\n",
       "    <tr>\n",
       "      <th>4</th>\n",
       "      <td>20190823094036_20190823094408_tile_10244</td>\n",
       "      <td>/Users/akerke/Documents/stacked-unets/dataset/...</td>\n",
       "      <td>/Users/akerke/Documents/stacked-unets/dataset/...</td>\n",
       "    </tr>\n",
       "    <tr>\n",
       "      <th>...</th>\n",
       "      <td>...</td>\n",
       "      <td>...</td>\n",
       "      <td>...</td>\n",
       "    </tr>\n",
       "    <tr>\n",
       "      <th>3396</th>\n",
       "      <td>20190823141628_20190823141922_tile_8731</td>\n",
       "      <td>/Users/akerke/Documents/stacked-unets/dataset/...</td>\n",
       "      <td>/Users/akerke/Documents/stacked-unets/dataset/...</td>\n",
       "    </tr>\n",
       "    <tr>\n",
       "      <th>3397</th>\n",
       "      <td>20190823141628_20190823141922_tile_8739</td>\n",
       "      <td>/Users/akerke/Documents/stacked-unets/dataset/...</td>\n",
       "      <td>/Users/akerke/Documents/stacked-unets/dataset/...</td>\n",
       "    </tr>\n",
       "    <tr>\n",
       "      <th>3398</th>\n",
       "      <td>20190822155902_20190822160145_tile_892</td>\n",
       "      <td>/Users/akerke/Documents/stacked-unets/dataset/...</td>\n",
       "      <td>/Users/akerke/Documents/stacked-unets/dataset/...</td>\n",
       "    </tr>\n",
       "    <tr>\n",
       "      <th>3399</th>\n",
       "      <td>20190822134328_20190822134645_tile_7053</td>\n",
       "      <td>/Users/akerke/Documents/stacked-unets/dataset/...</td>\n",
       "      <td>/Users/akerke/Documents/stacked-unets/dataset/...</td>\n",
       "    </tr>\n",
       "    <tr>\n",
       "      <th>3400</th>\n",
       "      <td>20190822133333_20190822133635_tile_7758</td>\n",
       "      <td>/Users/akerke/Documents/stacked-unets/dataset/...</td>\n",
       "      <td>/Users/akerke/Documents/stacked-unets/dataset/...</td>\n",
       "    </tr>\n",
       "  </tbody>\n",
       "</table>\n",
       "<p>3153 rows × 3 columns</p>\n",
       "</div>"
      ],
      "text/plain": [
       "                                      image_id  \\\n",
       "0      20190822070610_20190822070846_tile_3721   \n",
       "1      20190823065938_20190823070236_tile_2141   \n",
       "2      20190823154802_20190823155103_tile_9773   \n",
       "3      20190804122434_20190804122704_tile_6458   \n",
       "4     20190823094036_20190823094408_tile_10244   \n",
       "...                                        ...   \n",
       "3396   20190823141628_20190823141922_tile_8731   \n",
       "3397   20190823141628_20190823141922_tile_8739   \n",
       "3398    20190822155902_20190822160145_tile_892   \n",
       "3399   20190822134328_20190822134645_tile_7053   \n",
       "3400   20190822133333_20190822133635_tile_7758   \n",
       "\n",
       "                                             image_path  \\\n",
       "0     /Users/akerke/Documents/stacked-unets/dataset/...   \n",
       "1     /Users/akerke/Documents/stacked-unets/dataset/...   \n",
       "2     /Users/akerke/Documents/stacked-unets/dataset/...   \n",
       "3     /Users/akerke/Documents/stacked-unets/dataset/...   \n",
       "4     /Users/akerke/Documents/stacked-unets/dataset/...   \n",
       "...                                                 ...   \n",
       "3396  /Users/akerke/Documents/stacked-unets/dataset/...   \n",
       "3397  /Users/akerke/Documents/stacked-unets/dataset/...   \n",
       "3398  /Users/akerke/Documents/stacked-unets/dataset/...   \n",
       "3399  /Users/akerke/Documents/stacked-unets/dataset/...   \n",
       "3400  /Users/akerke/Documents/stacked-unets/dataset/...   \n",
       "\n",
       "                                              mask_path  \n",
       "0     /Users/akerke/Documents/stacked-unets/dataset/...  \n",
       "1     /Users/akerke/Documents/stacked-unets/dataset/...  \n",
       "2     /Users/akerke/Documents/stacked-unets/dataset/...  \n",
       "3     /Users/akerke/Documents/stacked-unets/dataset/...  \n",
       "4     /Users/akerke/Documents/stacked-unets/dataset/...  \n",
       "...                                                 ...  \n",
       "3396  /Users/akerke/Documents/stacked-unets/dataset/...  \n",
       "3397  /Users/akerke/Documents/stacked-unets/dataset/...  \n",
       "3398  /Users/akerke/Documents/stacked-unets/dataset/...  \n",
       "3399  /Users/akerke/Documents/stacked-unets/dataset/...  \n",
       "3400  /Users/akerke/Documents/stacked-unets/dataset/...  \n",
       "\n",
       "[3153 rows x 3 columns]"
      ]
     },
     "execution_count": 14,
     "metadata": {},
     "output_type": "execute_result"
    }
   ],
   "source": [
    "train_dataset"
   ]
  },
  {
   "cell_type": "code",
   "execution_count": 21,
   "id": "afb941d9",
   "metadata": {},
   "outputs": [],
   "source": [
    "import cv2\n",
    "\n",
    "def is_grayscale_image(image_path):\n",
    "    image = cv2.imread(image_path)\n",
    "    return len(image.shape) == 2 or (len(image.shape) == 3 and image.shape[2] == 1)"
   ]
  },
  {
   "cell_type": "code",
   "execution_count": 16,
   "id": "31d2c084",
   "metadata": {},
   "outputs": [
    {
     "data": {
      "text/plain": [
       "'20190822070610_20190822070846_tile_3721'"
      ]
     },
     "execution_count": 16,
     "metadata": {},
     "output_type": "execute_result"
    }
   ],
   "source": [
    "train_dataset.image_id.iloc[0]"
   ]
  },
  {
   "cell_type": "code",
   "execution_count": 18,
   "id": "d6209933",
   "metadata": {},
   "outputs": [],
   "source": [
    "index = 0 \n",
    "mode = \"SAR-Intensity\"\n",
    "image_id = train_dataset.image_id.iloc[index]\n",
    "image_path = f'{config.train_dir}/{mode}/SN6_Train_AOI_11_Rotterdam_{mode}_{image_id}.tif'"
   ]
  },
  {
   "cell_type": "code",
   "execution_count": 19,
   "id": "65d1ef97",
   "metadata": {},
   "outputs": [
    {
     "data": {
      "text/plain": [
       "'/Users/akerke/Documents/stacked-unets/dataset/data-spacenet6/train/AOI_11_Rotterdam/SAR-Intensity/SN6_Train_AOI_11_Rotterdam_SAR-Intensity_20190822070610_20190822070846_tile_3721.tif'"
      ]
     },
     "execution_count": 19,
     "metadata": {},
     "output_type": "execute_result"
    }
   ],
   "source": [
    "image_path"
   ]
  },
  {
   "cell_type": "code",
   "execution_count": 26,
   "id": "f8488324",
   "metadata": {},
   "outputs": [],
   "source": [
    "import rasterio as rs\n",
    "\n",
    "def is_grayscale_image(image_path):\n",
    "    with rs.open(image_path) as src:\n",
    "        return src.count == 1\n",
    "\n",
    "image_path = f'{config.train_dir}/{mode}/SN6_Train_AOI_11_Rotterdam_{mode}_{image_id}.tif'"
   ]
  },
  {
   "cell_type": "code",
   "execution_count": 27,
   "id": "813da8f8",
   "metadata": {},
   "outputs": [
    {
     "name": "stdout",
     "output_type": "stream",
     "text": [
      "Is the image grayscale? False\n"
     ]
    }
   ],
   "source": [
    "print(\"Is the image grayscale?\", is_grayscale_image(image_path))"
   ]
  },
  {
   "cell_type": "code",
   "execution_count": 31,
   "id": "2af6020e",
   "metadata": {},
   "outputs": [],
   "source": [
    "import rasterio\n",
    "\n",
    "def inspect_image(image_path):\n",
    "    with rasterio.open(image_path) as src:\n",
    "        print(\"Image shape:\", src.shape)\n",
    "        print(\"Number of channels:\", src.count)\n",
    "        print(\"Image CRS:\", src.crs)\n",
    "        print(\"Image transform:\", src.transform)"
   ]
  },
  {
   "cell_type": "code",
   "execution_count": 32,
   "id": "ef22d3fb",
   "metadata": {},
   "outputs": [
    {
     "name": "stdout",
     "output_type": "stream",
     "text": [
      "Image shape: (900, 900)\n",
      "Number of channels: 4\n",
      "Image CRS: EPSG:32631\n",
      "Image transform: | 0.50, 0.00, 592736.98|\n",
      "| 0.00,-0.50, 5747555.52|\n",
      "| 0.00, 0.00, 1.00|\n"
     ]
    }
   ],
   "source": [
    "index = 0 \n",
    "mode = \"SAR-Intensity\"\n",
    "image_id = train_dataset.image_id.iloc[index]\n",
    "image_path = f'{config.train_dir}/{mode}/SN6_Train_AOI_11_Rotterdam_{mode}_{image_id}.tif'\n",
    "inspect_image(image_path)"
   ]
  },
  {
   "cell_type": "code",
   "execution_count": 35,
   "id": "0fd37878",
   "metadata": {},
   "outputs": [
    {
     "name": "stdout",
     "output_type": "stream",
     "text": [
      "Image shape: (900, 900)\n",
      "Number of channels: 4\n",
      "Image CRS: EPSG:32631\n",
      "Image transform: | 0.50, 0.00, 592964.32|\n",
      "| 0.00,-0.50, 5753176.32|\n",
      "| 0.00, 0.00, 1.00|\n"
     ]
    }
   ],
   "source": [
    "index = 3000\n",
    "mode = \"SAR-Intensity\"\n",
    "image_id = train_dataset.image_id.iloc[index]\n",
    "image_path = f'{config.train_dir}/{mode}/SN6_Train_AOI_11_Rotterdam_{mode}_{image_id}.tif'\n",
    "inspect_image(image_path)"
   ]
  },
  {
   "cell_type": "code",
   "execution_count": 34,
   "id": "402cd9bd",
   "metadata": {},
   "outputs": [
    {
     "name": "stdout",
     "output_type": "stream",
     "text": [
      "Image shape: (900, 900)\n",
      "Number of channels: 4\n",
      "Image CRS: EPSG:32631\n",
      "Image transform: | 0.50, 0.00, 593466.16|\n",
      "| 0.00,-0.50, 5745928.03|\n",
      "| 0.00, 0.00, 1.00|\n"
     ]
    }
   ],
   "source": [
    "index = 100\n",
    "mode = \"SAR-Intensity\"\n",
    "image_id = train_dataset.image_id.iloc[index]\n",
    "image_path = f'{config.train_dir}/{mode}/SN6_Train_AOI_11_Rotterdam_{mode}_{image_id}.tif'\n",
    "inspect_image(image_path)"
   ]
  },
  {
   "cell_type": "code",
   "execution_count": 36,
   "id": "b5c899f6",
   "metadata": {},
   "outputs": [],
   "source": [
    "def get_image_dtype(image_path):\n",
    "    with rs.open(image_path) as src:\n",
    "        dtype = src.dtypes[0]  # Assuming all bands have the same data type\n",
    "    return dtype"
   ]
  },
  {
   "cell_type": "code",
   "execution_count": 37,
   "id": "e2bc634a",
   "metadata": {},
   "outputs": [
    {
     "name": "stdout",
     "output_type": "stream",
     "text": [
      "Image data type: float32\n"
     ]
    }
   ],
   "source": [
    "index = 0 \n",
    "mode = \"SAR-Intensity\"\n",
    "image_id = train_dataset.image_id.iloc[index]\n",
    "image_path = f'{config.train_dir}/{mode}/SN6_Train_AOI_11_Rotterdam_{mode}_{image_id}.tif'\n",
    "dtype = get_image_dtype(image_path)\n",
    "print(f\"Image data type: {dtype}\")"
   ]
  },
  {
   "cell_type": "code",
   "execution_count": 38,
   "id": "2d2bc001",
   "metadata": {},
   "outputs": [
    {
     "name": "stdout",
     "output_type": "stream",
     "text": [
      "Image data type: float32\n"
     ]
    }
   ],
   "source": [
    "index = 300 \n",
    "mode = \"SAR-Intensity\"\n",
    "image_id = train_dataset.image_id.iloc[index]\n",
    "image_path = f'{config.train_dir}/{mode}/SN6_Train_AOI_11_Rotterdam_{mode}_{image_id}.tif'\n",
    "dtype = get_image_dtype(image_path)\n",
    "print(f\"Image data type: {dtype}\")"
   ]
  },
  {
   "cell_type": "code",
   "execution_count": 43,
   "id": "6612b035",
   "metadata": {},
   "outputs": [],
   "source": [
    "def check_image_range(image_path):\n",
    "    with rs.open(image_path) as src:\n",
    "        image = src.read()\n",
    "        min_value = image.min()\n",
    "        max_value = image.max()\n",
    "\n",
    "    return min_value, max_value\n",
    "\n",
    "all_files = glob.glob(os.path.join(config.train_dir, 'SAR-Intensity', '*.tif'))"
   ]
  },
  {
   "cell_type": "code",
   "execution_count": 44,
   "id": "a1ae3655",
   "metadata": {},
   "outputs": [
    {
     "name": "stdout",
     "output_type": "stream",
     "text": [
      "Image pixel value range: 0.0 - 88.83648681640625\n"
     ]
    }
   ],
   "source": [
    "index = 0 \n",
    "mode = \"SAR-Intensity\"\n",
    "image_id = train_dataset.image_id.iloc[index]\n",
    "image_path = f'{config.train_dir}/{mode}/SN6_Train_AOI_11_Rotterdam_{mode}_{image_id}.tif'\n",
    "min_value, max_value = check_image_range(image_path)\n",
    "print(f\"Image pixel value range: {min_value} - {max_value}\")"
   ]
  },
  {
   "cell_type": "code",
   "execution_count": 45,
   "id": "dd86e01d",
   "metadata": {},
   "outputs": [
    {
     "name": "stdout",
     "output_type": "stream",
     "text": [
      "Image pixel value range: 0.0 - 65.65650177001953\n"
     ]
    }
   ],
   "source": [
    "index = 3000\n",
    "mode = \"SAR-Intensity\"\n",
    "image_id = train_dataset.image_id.iloc[index]\n",
    "image_path = f'{config.train_dir}/{mode}/SN6_Train_AOI_11_Rotterdam_{mode}_{image_id}.tif'\n",
    "min_value, max_value = check_image_range(image_path)\n",
    "print(f\"Image pixel value range: {min_value} - {max_value}\")"
   ]
  },
  {
   "cell_type": "code",
   "execution_count": 46,
   "id": "be575ecc",
   "metadata": {},
   "outputs": [
    {
     "name": "stdout",
     "output_type": "stream",
     "text": [
      "Image pixel value range: 0.0 - 89.99523162841797\n"
     ]
    }
   ],
   "source": [
    "index = 100\n",
    "mode = \"SAR-Intensity\"\n",
    "image_id = train_dataset.image_id.iloc[index]\n",
    "image_path = f'{config.train_dir}/{mode}/SN6_Train_AOI_11_Rotterdam_{mode}_{image_id}.tif'\n",
    "min_value, max_value = check_image_range(image_path)\n",
    "print(f\"Image pixel value range: {min_value} - {max_value}\")"
   ]
  },
  {
   "cell_type": "code",
   "execution_count": null,
   "id": "f218ea25",
   "metadata": {},
   "outputs": [],
   "source": []
  }
 ],
 "metadata": {
  "kernelspec": {
   "display_name": ".venv",
   "language": "python",
   "name": ".venv"
  },
  "language_info": {
   "codemirror_mode": {
    "name": "ipython",
    "version": 3
   },
   "file_extension": ".py",
   "mimetype": "text/x-python",
   "name": "python",
   "nbconvert_exporter": "python",
   "pygments_lexer": "ipython3",
   "version": "3.7.9"
  }
 },
 "nbformat": 4,
 "nbformat_minor": 5
}
